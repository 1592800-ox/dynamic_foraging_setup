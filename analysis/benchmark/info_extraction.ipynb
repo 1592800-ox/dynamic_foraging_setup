{
 "cells": [
  {
   "cell_type": "code",
   "execution_count": 1,
   "metadata": {},
   "outputs": [],
   "source": [
    "from os.path import join as pjoin\n",
    "from os import listdir\n",
    "from datetime import datetime\n",
    "\n",
    "import pandas as pd\n",
    "import numpy as np\n",
    "import matplotlib.pyplot as plt\n",
    "from scipy.stats import rankdata\n",
    "\n",
    "from evaluate import get_nan_percent, get_performance, tolerant_mean"
   ]
  },
  {
   "cell_type": "code",
   "execution_count": 3,
   "metadata": {},
   "outputs": [
    {
     "name": "stdout",
     "output_type": "stream",
     "text": [
      "choices and set probability has different lengths\n",
      "choices and set probability has different lengths\n",
      "choices and set probability has different lengths\n",
      "choices and set probability has different lengths\n",
      "choices and set probability has different lengths\n",
      "choices and set probability has different lengths\n"
     ]
    }
   ],
   "source": [
    "bookkeeping_path = ('session_info.csv')\n",
    "\n",
    "mouse_codes = []\n",
    "dates = []\n",
    "versions = []\n",
    "performances = []\n",
    "session_indices = np.array([], dtype=int)\n",
    "\n",
    "for mouse_code in listdir('data'):\n",
    "    mice_path = pjoin('data', mouse_code)\n",
    "\n",
    "    cur_mouse_code = []\n",
    "    cur_date = []\n",
    "    cur_version = []\n",
    "    cur_performance = []\n",
    "\n",
    "    for session in listdir(mice_path):\n",
    "        date_version = '.'.join(session.split('.')[:-1])\n",
    "        date = date_version.split('-')[0]\n",
    "        version = date_version.split('-')[1]\n",
    "        session_path = pjoin(mice_path, session)\n",
    "        session_data = pd.read_csv(session_path)\n",
    "        leftP = session_data['leftP']\n",
    "        choices = session_data['choices']\n",
    "        try:\n",
    "            performance = get_performance(choices=choices, leftP=leftP, version=version)\n",
    "        except RuntimeError:\n",
    "            continue\n",
    "        cur_mouse_code.append(mouse_code)\n",
    "        cur_date.append(date)\n",
    "        cur_version.append(version)\n",
    "        cur_performance.append(performance)\n",
    "        \n",
    "    cur_session_indices = rankdata(cur_date).astype(int)\n",
    "    mouse_codes += cur_mouse_code\n",
    "    dates += cur_date\n",
    "    performances += cur_performance\n",
    "    versions += cur_version\n",
    "    session_indices = np.concatenate((session_indices, cur_session_indices))\n",
    "\n",
    "data = pd.DataFrame({'mouse_code': mouse_codes, \n",
    "                    'date': dates,\n",
    "                    'performance': performances,\n",
    "                    'version': versions,\n",
    "                    'session_index': session_indices})\n",
    "\n",
    "data.to_csv(bookkeeping_path, index=False)"
   ]
  },
  {
   "cell_type": "code",
   "execution_count": 6,
   "metadata": {},
   "outputs": [
    {
     "data": {
      "text/plain": [
       "(377, 5)"
      ]
     },
     "execution_count": 6,
     "metadata": {},
     "output_type": "execute_result"
    }
   ],
   "source": [
    "data = pd.read_csv('session_info.csv')\n",
    "filtered = data[data.session_index > 20]\n",
    "filtered.shape"
   ]
  }
 ],
 "metadata": {
  "kernelspec": {
   "display_name": "Python 3.8.9 64-bit",
   "language": "python",
   "name": "python3"
  },
  "language_info": {
   "codemirror_mode": {
    "name": "ipython",
    "version": 3
   },
   "file_extension": ".py",
   "mimetype": "text/x-python",
   "name": "python",
   "nbconvert_exporter": "python",
   "pygments_lexer": "ipython3",
   "version": "3.8.9"
  },
  "orig_nbformat": 4,
  "vscode": {
   "interpreter": {
    "hash": "31f2aee4e71d21fbe5cf8b01ff0e069b9275f58929596ceb00d14d90e3e16cd6"
   }
  }
 },
 "nbformat": 4,
 "nbformat_minor": 2
}
