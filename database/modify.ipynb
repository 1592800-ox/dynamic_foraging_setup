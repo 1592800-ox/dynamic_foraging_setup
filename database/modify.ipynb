{
 "cells": [
  {
   "cell_type": "code",
   "execution_count": 2,
   "metadata": {},
   "outputs": [
    {
     "name": "stdout",
     "output_type": "stream",
     "text": [
      "connection established\n"
     ]
    }
   ],
   "source": [
    "import os, sys\n",
    "sys.path.insert(0, os.path.abspath('..'))\n",
    "# used for modifying the sql databases using the queries defined in queries.py\n",
    "import mysql.connector\n",
    "from mysql.connector import errorcode\n",
    "import pandas as pd\n",
    "import queries\n",
    "# Creating connection\n",
    "config = {\n",
    "    'host': 'dynamic-foraging-mysql.mysql.database.azure.com',\n",
    "    'user': 'peiheng',\n",
    "    'password': 'Luph65588590-',\n",
    "    'database': 'dynamic-foraging'\n",
    "}\n",
    "\n",
    "db = mysql.connector.connect(**config)\n",
    "cursor = db.cursor()\n",
    "\n",
    "print('connection established')"
   ]
  },
  {
   "cell_type": "code",
   "execution_count": 19,
   "metadata": {},
   "outputs": [
    {
     "name": "stdout",
     "output_type": "stream",
     "text": [
      "[]\n"
     ]
    },
    {
     "data": {
      "text/plain": [
       "True"
      ]
     },
     "execution_count": 19,
     "metadata": {},
     "output_type": "execute_result"
    }
   ],
   "source": [
    "db = mysql.connector.connect(**config)\n",
    "cursor = db.cursor()\n",
    "\n",
    "# create new tables\n",
    "queries.init(cursor)\n",
    "\n",
    "cursor.close()"
   ]
  },
  {
   "cell_type": "code",
   "execution_count": 4,
   "metadata": {},
   "outputs": [
    {
     "name": "stdout",
     "output_type": "stream",
     "text": [
      "[]\n"
     ]
    },
    {
     "data": {
      "text/plain": [
       "True"
      ]
     },
     "execution_count": 4,
     "metadata": {},
     "output_type": "execute_result"
    }
   ],
   "source": [
    "db = mysql.connector.connect(**config)\n",
    "cursor = db.cursor()\n",
    "\n",
    "cursor.execute('SHOW TABLES')\n",
    "print(cursor.fetchall())\n",
    "\n",
    "cursor.close()"
   ]
  },
  {
   "cell_type": "code",
   "execution_count": 6,
   "metadata": {},
   "outputs": [
    {
     "name": "stdout",
     "output_type": "stream",
     "text": [
      "[]\n"
     ]
    }
   ],
   "source": [
    "db = mysql.connector.connect(**config)\n",
    "cursor = db.cursor()\n",
    "\n",
    "animals = queries.get_animals(cursor)\n",
    "print(animals)"
   ]
  },
  {
   "cell_type": "code",
   "execution_count": 6,
   "metadata": {},
   "outputs": [
    {
     "ename": "IndexError",
     "evalue": "list index out of range",
     "output_type": "error",
     "traceback": [
      "\u001b[0;31m---------------------------------------------------------------------------\u001b[0m",
      "\u001b[0;31mIndexError\u001b[0m                                Traceback (most recent call last)",
      "\u001b[1;32m/home/ganlab/dynamic_foraging_GanJianLab/database/modify.ipynb Cell 5\u001b[0m in \u001b[0;36m<cell line: 4>\u001b[0;34m()\u001b[0m\n\u001b[1;32m      <a href='vscode-notebook-cell:/home/ganlab/dynamic_foraging_GanJianLab/database/modify.ipynb#W4sZmlsZQ%3D%3D?line=0'>1</a>\u001b[0m db \u001b[39m=\u001b[39m mysql\u001b[39m.\u001b[39mconnector\u001b[39m.\u001b[39mconnect(\u001b[39m*\u001b[39m\u001b[39m*\u001b[39mconfig)\n\u001b[1;32m      <a href='vscode-notebook-cell:/home/ganlab/dynamic_foraging_GanJianLab/database/modify.ipynb#W4sZmlsZQ%3D%3D?line=1'>2</a>\u001b[0m cursor \u001b[39m=\u001b[39m db\u001b[39m.\u001b[39mcursor()\n\u001b[0;32m----> <a href='vscode-notebook-cell:/home/ganlab/dynamic_foraging_GanJianLab/database/modify.ipynb#W4sZmlsZQ%3D%3D?line=3'>4</a>\u001b[0m age \u001b[39m=\u001b[39m queries\u001b[39m.\u001b[39;49mget_age(\u001b[39m'\u001b[39;49m\u001b[39mJGED01\u001b[39;49m\u001b[39m'\u001b[39;49m, cursor)\n\u001b[1;32m      <a href='vscode-notebook-cell:/home/ganlab/dynamic_foraging_GanJianLab/database/modify.ipynb#W4sZmlsZQ%3D%3D?line=5'>6</a>\u001b[0m \u001b[39mprint\u001b[39m(age)\n",
      "File \u001b[0;32m~/dynamic_foraging_GanJianLab/database/queries.py:112\u001b[0m, in \u001b[0;36mget_age\u001b[0;34m(mouse_code, cursor)\u001b[0m\n\u001b[1;32m    106\u001b[0m query \u001b[39m=\u001b[39m \u001b[39m'''\u001b[39m\n\u001b[1;32m    107\u001b[0m \u001b[39m    SELECT date_of_birth \u001b[39m\n\u001b[1;32m    108\u001b[0m \u001b[39m    FROM mice\u001b[39m\n\u001b[1;32m    109\u001b[0m \u001b[39m    WHERE mouse_code = \u001b[39m\u001b[39m'\u001b[39m\u001b[39m%s\u001b[39;00m\u001b[39m'\u001b[39m\u001b[39m;\u001b[39m\n\u001b[1;32m    110\u001b[0m \u001b[39m    \u001b[39m\u001b[39m'''\u001b[39m \u001b[39m%\u001b[39m (mouse_code)\n\u001b[1;32m    111\u001b[0m cursor\u001b[39m.\u001b[39mexecute(query)\n\u001b[0;32m--> 112\u001b[0m dob \u001b[39m=\u001b[39m cursor\u001b[39m.\u001b[39;49mfetchall()[\u001b[39m0\u001b[39;49m][\u001b[39m0\u001b[39m]\n\u001b[1;32m    113\u001b[0m today \u001b[39m=\u001b[39m datetime\u001b[39m.\u001b[39mdate\u001b[39m.\u001b[39mtoday()\n\u001b[1;32m    114\u001b[0m \u001b[39mreturn\u001b[39;00m (today \u001b[39m-\u001b[39m dob)\u001b[39m.\u001b[39mdays\n",
      "\u001b[0;31mIndexError\u001b[0m: list index out of range"
     ]
    }
   ],
   "source": [
    "db = mysql.connector.connect(**config)\n",
    "cursor = db.cursor()\n",
    "\n",
    "age = queries.get_age('JGED01', cursor)\n",
    "\n",
    "print(age)"
   ]
  },
  {
   "cell_type": "code",
   "execution_count": 20,
   "metadata": {},
   "outputs": [],
   "source": [
    "db = mysql.connector.connect(**config)\n",
    "cursor = db.cursor()\n",
    "\n",
    "queries.add_animal('JGED01', '2021/09/01', cursor)\n",
    "db.commit()"
   ]
  },
  {
   "cell_type": "code",
   "execution_count": 21,
   "metadata": {},
   "outputs": [],
   "source": [
    "db = mysql.connector.connect(**config)\n",
    "cursor = db.cursor()\n",
    "\n",
    "queries.add_animal('JGED02', '2021/10/01', cursor)\n",
    "db.commit()"
   ]
  },
  {
   "cell_type": "code",
   "execution_count": 9,
   "metadata": {},
   "outputs": [],
   "source": [
    "db = mysql.connector.connect(**config)\n",
    "cursor = db.cursor()\n",
    "\n",
    "queries.add_animal('APPPS01', '2022/06/01', cursor)\n",
    "db.commit()"
   ]
  },
  {
   "cell_type": "code",
   "execution_count": 17,
   "metadata": {},
   "outputs": [
    {
     "name": "stdout",
     "output_type": "stream",
     "text": [
      "standby\n"
     ]
    }
   ],
   "source": [
    "stage = queries.get_stage('APPPS01', cursor)\n",
    "print(stage)"
   ]
  },
  {
   "cell_type": "code",
   "execution_count": 14,
   "metadata": {},
   "outputs": [],
   "source": [
    "queries.next_stage('APPPS01', cursor)\n",
    "\n",
    "db.commit()"
   ]
  },
  {
   "cell_type": "markdown",
   "metadata": {},
   "source": [
    "# DANGER ZONE"
   ]
  },
  {
   "cell_type": "code",
   "execution_count": 18,
   "metadata": {},
   "outputs": [
    {
     "data": {
      "text/plain": [
       "True"
      ]
     },
     "execution_count": 18,
     "metadata": {},
     "output_type": "execute_result"
    }
   ],
   "source": [
    "db = mysql.connector.connect(**config)\n",
    "cursor = db.cursor()\n",
    "\n",
    "queries.delete_all(cursor=cursor)\n",
    "\n",
    "cursor.close()"
   ]
  }
 ],
 "metadata": {
  "kernelspec": {
   "display_name": "Python 3.10.4 64-bit",
   "language": "python",
   "name": "python3"
  },
  "language_info": {
   "codemirror_mode": {
    "name": "ipython",
    "version": 3
   },
   "file_extension": ".py",
   "mimetype": "text/x-python",
   "name": "python",
   "nbconvert_exporter": "python",
   "pygments_lexer": "ipython3",
   "version": "3.10.4"
  },
  "orig_nbformat": 4,
  "vscode": {
   "interpreter": {
    "hash": "916dbcbb3f70747c44a77c7bcd40155683ae19c65e1c03b4aa3499c5328201f1"
   }
  }
 },
 "nbformat": 4,
 "nbformat_minor": 2
}
