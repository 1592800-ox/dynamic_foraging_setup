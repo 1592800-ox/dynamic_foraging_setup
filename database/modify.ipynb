{
 "cells": [
  {
   "cell_type": "code",
   "execution_count": 4,
   "metadata": {},
   "outputs": [
    {
     "ename": "InterfaceError",
     "evalue": "2055: Lost connection to MySQL server at 'dynamic-foraging-mysql.mysql.database.azure.com:3306', system error: 1 [SSL] internal error (_ssl.c:997)",
     "output_type": "error",
     "traceback": [
      "\u001b[0;31m---------------------------------------------------------------------------\u001b[0m",
      "\u001b[0;31mSSLError\u001b[0m                                  Traceback (most recent call last)",
      "File \u001b[0;32m~/.local/lib/python3.10/site-packages/mysql/connector/network.py:421\u001b[0m, in \u001b[0;36mBaseMySQLSocket.switch_to_ssl\u001b[0;34m(self, ca, cert, key, verify_cert, cipher)\u001b[0m\n\u001b[1;32m    417\u001b[0m     \u001b[39mself\u001b[39m\u001b[39m.\u001b[39msock \u001b[39m=\u001b[39m ssl\u001b[39m.\u001b[39mwrap_socket(\n\u001b[1;32m    418\u001b[0m         \u001b[39mself\u001b[39m\u001b[39m.\u001b[39msock, keyfile\u001b[39m=\u001b[39mkey, certfile\u001b[39m=\u001b[39mcert, ca_certs\u001b[39m=\u001b[39mca,\n\u001b[1;32m    419\u001b[0m         cert_reqs\u001b[39m=\u001b[39mcert_reqs, do_handshake_on_connect\u001b[39m=\u001b[39m\u001b[39mFalse\u001b[39;00m,\n\u001b[1;32m    420\u001b[0m         ssl_version\u001b[39m=\u001b[39mssl\u001b[39m.\u001b[39mPROTOCOL_TLSv1, ciphers\u001b[39m=\u001b[39mcipher)\n\u001b[0;32m--> 421\u001b[0m     \u001b[39mself\u001b[39;49m\u001b[39m.\u001b[39;49msock\u001b[39m.\u001b[39;49mdo_handshake()\n\u001b[1;32m    422\u001b[0m \u001b[39mexcept\u001b[39;00m \u001b[39mNameError\u001b[39;00m:\n",
      "File \u001b[0;32m/usr/lib/python3.10/ssl.py:1341\u001b[0m, in \u001b[0;36mSSLSocket.do_handshake\u001b[0;34m(self, block)\u001b[0m\n\u001b[1;32m   1340\u001b[0m         \u001b[39mself\u001b[39m\u001b[39m.\u001b[39msettimeout(\u001b[39mNone\u001b[39;00m)\n\u001b[0;32m-> 1341\u001b[0m     \u001b[39mself\u001b[39;49m\u001b[39m.\u001b[39;49m_sslobj\u001b[39m.\u001b[39;49mdo_handshake()\n\u001b[1;32m   1342\u001b[0m \u001b[39mfinally\u001b[39;00m:\n",
      "\u001b[0;31mSSLError\u001b[0m: [SSL] internal error (_ssl.c:997)",
      "\nDuring handling of the above exception, another exception occurred:\n",
      "\u001b[0;31mInterfaceError\u001b[0m                            Traceback (most recent call last)",
      "\u001b[1;32m/home/ganlab/dynamic_foraging_GanJianLab/database/modify.ipynb Cell 1'\u001b[0m in \u001b[0;36m<cell line: 18>\u001b[0;34m()\u001b[0m\n\u001b[1;32m      <a href='vscode-notebook-cell:/home/ganlab/dynamic_foraging_GanJianLab/database/modify.ipynb#W0sZmlsZQ%3D%3D?line=7'>8</a>\u001b[0m \u001b[39m# Creating connection\u001b[39;00m\n\u001b[1;32m      <a href='vscode-notebook-cell:/home/ganlab/dynamic_foraging_GanJianLab/database/modify.ipynb#W0sZmlsZQ%3D%3D?line=8'>9</a>\u001b[0m config \u001b[39m=\u001b[39m {\n\u001b[1;32m     <a href='vscode-notebook-cell:/home/ganlab/dynamic_foraging_GanJianLab/database/modify.ipynb#W0sZmlsZQ%3D%3D?line=9'>10</a>\u001b[0m     \u001b[39m'\u001b[39m\u001b[39mhost\u001b[39m\u001b[39m'\u001b[39m: \u001b[39m'\u001b[39m\u001b[39mdynamic-foraging-mysql.mysql.database.azure.com\u001b[39m\u001b[39m'\u001b[39m,\n\u001b[1;32m     <a href='vscode-notebook-cell:/home/ganlab/dynamic_foraging_GanJianLab/database/modify.ipynb#W0sZmlsZQ%3D%3D?line=10'>11</a>\u001b[0m     \u001b[39m'\u001b[39m\u001b[39muser\u001b[39m\u001b[39m'\u001b[39m: \u001b[39m'\u001b[39m\u001b[39mpeiheng\u001b[39m\u001b[39m'\u001b[39m,\n\u001b[0;32m   (...)\u001b[0m\n\u001b[1;32m     <a href='vscode-notebook-cell:/home/ganlab/dynamic_foraging_GanJianLab/database/modify.ipynb#W0sZmlsZQ%3D%3D?line=14'>15</a>\u001b[0m     \u001b[39m'\u001b[39m\u001b[39mssl_ca\u001b[39m\u001b[39m'\u001b[39m: \u001b[39m'\u001b[39m\u001b[39mDigiCertGlobalRootCA.crt.pem\u001b[39m\u001b[39m'\u001b[39m\n\u001b[1;32m     <a href='vscode-notebook-cell:/home/ganlab/dynamic_foraging_GanJianLab/database/modify.ipynb#W0sZmlsZQ%3D%3D?line=15'>16</a>\u001b[0m }\n\u001b[0;32m---> <a href='vscode-notebook-cell:/home/ganlab/dynamic_foraging_GanJianLab/database/modify.ipynb#W0sZmlsZQ%3D%3D?line=17'>18</a>\u001b[0m db \u001b[39m=\u001b[39m mysql\u001b[39m.\u001b[39;49mconnector\u001b[39m.\u001b[39;49mconnect(\u001b[39m*\u001b[39;49m\u001b[39m*\u001b[39;49mconfig)\n\u001b[1;32m     <a href='vscode-notebook-cell:/home/ganlab/dynamic_foraging_GanJianLab/database/modify.ipynb#W0sZmlsZQ%3D%3D?line=18'>19</a>\u001b[0m cursor \u001b[39m=\u001b[39m db\u001b[39m.\u001b[39mcursor()\n\u001b[1;32m     <a href='vscode-notebook-cell:/home/ganlab/dynamic_foraging_GanJianLab/database/modify.ipynb#W0sZmlsZQ%3D%3D?line=20'>21</a>\u001b[0m \u001b[39mprint\u001b[39m(\u001b[39m'\u001b[39m\u001b[39mconnection established\u001b[39m\u001b[39m'\u001b[39m)\n",
      "File \u001b[0;32m~/.local/lib/python3.10/site-packages/mysql/connector/__init__.py:179\u001b[0m, in \u001b[0;36mconnect\u001b[0;34m(*args, **kwargs)\u001b[0m\n\u001b[1;32m    177\u001b[0m     \u001b[39mreturn\u001b[39;00m CMySQLConnection(\u001b[39m*\u001b[39margs, \u001b[39m*\u001b[39m\u001b[39m*\u001b[39mkwargs)\n\u001b[1;32m    178\u001b[0m \u001b[39melse\u001b[39;00m:\n\u001b[0;32m--> 179\u001b[0m     \u001b[39mreturn\u001b[39;00m MySQLConnection(\u001b[39m*\u001b[39;49margs, \u001b[39m*\u001b[39;49m\u001b[39m*\u001b[39;49mkwargs)\n",
      "File \u001b[0;32m~/.local/lib/python3.10/site-packages/mysql/connector/connection.py:95\u001b[0m, in \u001b[0;36mMySQLConnection.__init__\u001b[0;34m(self, *args, **kwargs)\u001b[0m\n\u001b[1;32m     92\u001b[0m \u001b[39mself\u001b[39m\u001b[39m.\u001b[39m_pool_config_version \u001b[39m=\u001b[39m \u001b[39mNone\u001b[39;00m\n\u001b[1;32m     94\u001b[0m \u001b[39mif\u001b[39;00m \u001b[39mlen\u001b[39m(kwargs) \u001b[39m>\u001b[39m \u001b[39m0\u001b[39m:\n\u001b[0;32m---> 95\u001b[0m     \u001b[39mself\u001b[39;49m\u001b[39m.\u001b[39;49mconnect(\u001b[39m*\u001b[39;49m\u001b[39m*\u001b[39;49mkwargs)\n",
      "File \u001b[0;32m~/.local/lib/python3.10/site-packages/mysql/connector/abstracts.py:716\u001b[0m, in \u001b[0;36mMySQLConnectionAbstract.connect\u001b[0;34m(self, **kwargs)\u001b[0m\n\u001b[1;32m    713\u001b[0m     \u001b[39mself\u001b[39m\u001b[39m.\u001b[39mconfig(\u001b[39m*\u001b[39m\u001b[39m*\u001b[39mkwargs)\n\u001b[1;32m    715\u001b[0m \u001b[39mself\u001b[39m\u001b[39m.\u001b[39mdisconnect()\n\u001b[0;32m--> 716\u001b[0m \u001b[39mself\u001b[39;49m\u001b[39m.\u001b[39;49m_open_connection()\n\u001b[1;32m    717\u001b[0m \u001b[39mself\u001b[39m\u001b[39m.\u001b[39m_post_connection()\n",
      "File \u001b[0;32m~/.local/lib/python3.10/site-packages/mysql/connector/connection.py:208\u001b[0m, in \u001b[0;36mMySQLConnection._open_connection\u001b[0;34m(self)\u001b[0m\n\u001b[1;32m    206\u001b[0m \u001b[39mself\u001b[39m\u001b[39m.\u001b[39m_socket\u001b[39m.\u001b[39mopen_connection()\n\u001b[1;32m    207\u001b[0m \u001b[39mself\u001b[39m\u001b[39m.\u001b[39m_do_handshake()\n\u001b[0;32m--> 208\u001b[0m \u001b[39mself\u001b[39;49m\u001b[39m.\u001b[39;49m_do_auth(\u001b[39mself\u001b[39;49m\u001b[39m.\u001b[39;49m_user, \u001b[39mself\u001b[39;49m\u001b[39m.\u001b[39;49m_password,\n\u001b[1;32m    209\u001b[0m               \u001b[39mself\u001b[39;49m\u001b[39m.\u001b[39;49m_database, \u001b[39mself\u001b[39;49m\u001b[39m.\u001b[39;49m_client_flags, \u001b[39mself\u001b[39;49m\u001b[39m.\u001b[39;49m_charset_id,\n\u001b[1;32m    210\u001b[0m               \u001b[39mself\u001b[39;49m\u001b[39m.\u001b[39;49m_ssl)\n\u001b[1;32m    211\u001b[0m \u001b[39mself\u001b[39m\u001b[39m.\u001b[39mset_converter_class(\u001b[39mself\u001b[39m\u001b[39m.\u001b[39m_converter_class)\n\u001b[1;32m    212\u001b[0m \u001b[39mif\u001b[39;00m \u001b[39mself\u001b[39m\u001b[39m.\u001b[39m_client_flags \u001b[39m&\u001b[39m ClientFlag\u001b[39m.\u001b[39mCOMPRESS:\n",
      "File \u001b[0;32m~/.local/lib/python3.10/site-packages/mysql/connector/connection.py:134\u001b[0m, in \u001b[0;36mMySQLConnection._do_auth\u001b[0;34m(self, username, password, database, client_flags, charset, ssl_options)\u001b[0m\n\u001b[1;32m    131\u001b[0m     packet \u001b[39m=\u001b[39m \u001b[39mself\u001b[39m\u001b[39m.\u001b[39m_protocol\u001b[39m.\u001b[39mmake_auth_ssl(charset\u001b[39m=\u001b[39mcharset,\n\u001b[1;32m    132\u001b[0m                                           client_flags\u001b[39m=\u001b[39mclient_flags)\n\u001b[1;32m    133\u001b[0m     \u001b[39mself\u001b[39m\u001b[39m.\u001b[39m_socket\u001b[39m.\u001b[39msend(packet)\n\u001b[0;32m--> 134\u001b[0m     \u001b[39mself\u001b[39;49m\u001b[39m.\u001b[39;49m_socket\u001b[39m.\u001b[39;49mswitch_to_ssl(\u001b[39m*\u001b[39;49m\u001b[39m*\u001b[39;49mssl_options)\n\u001b[1;32m    135\u001b[0m     \u001b[39mself\u001b[39m\u001b[39m.\u001b[39m_ssl_active \u001b[39m=\u001b[39m \u001b[39mTrue\u001b[39;00m\n\u001b[1;32m    137\u001b[0m packet \u001b[39m=\u001b[39m \u001b[39mself\u001b[39m\u001b[39m.\u001b[39m_protocol\u001b[39m.\u001b[39mmake_auth(\n\u001b[1;32m    138\u001b[0m     handshake\u001b[39m=\u001b[39m\u001b[39mself\u001b[39m\u001b[39m.\u001b[39m_handshake,\n\u001b[1;32m    139\u001b[0m     username\u001b[39m=\u001b[39musername, password\u001b[39m=\u001b[39mpassword, database\u001b[39m=\u001b[39mdatabase,\n\u001b[1;32m    140\u001b[0m     charset\u001b[39m=\u001b[39mcharset, client_flags\u001b[39m=\u001b[39mclient_flags,\n\u001b[1;32m    141\u001b[0m     ssl_enabled\u001b[39m=\u001b[39m\u001b[39mself\u001b[39m\u001b[39m.\u001b[39m_ssl_active,\n\u001b[1;32m    142\u001b[0m     auth_plugin\u001b[39m=\u001b[39m\u001b[39mself\u001b[39m\u001b[39m.\u001b[39m_auth_plugin)\n",
      "File \u001b[0;32m~/.local/lib/python3.10/site-packages/mysql/connector/network.py:426\u001b[0m, in \u001b[0;36mBaseMySQLSocket.switch_to_ssl\u001b[0;34m(self, ca, cert, key, verify_cert, cipher)\u001b[0m\n\u001b[1;32m    423\u001b[0m     \u001b[39mraise\u001b[39;00m errors\u001b[39m.\u001b[39mNotSupportedError(\n\u001b[1;32m    424\u001b[0m         \u001b[39m\"\u001b[39m\u001b[39mPython installation has no SSL support\u001b[39m\u001b[39m\"\u001b[39m)\n\u001b[1;32m    425\u001b[0m \u001b[39mexcept\u001b[39;00m (ssl\u001b[39m.\u001b[39mSSLError, \u001b[39mIOError\u001b[39;00m) \u001b[39mas\u001b[39;00m err:\n\u001b[0;32m--> 426\u001b[0m     \u001b[39mraise\u001b[39;00m errors\u001b[39m.\u001b[39mInterfaceError(\n\u001b[1;32m    427\u001b[0m         errno\u001b[39m=\u001b[39m\u001b[39m2055\u001b[39m, values\u001b[39m=\u001b[39m(\u001b[39mself\u001b[39m\u001b[39m.\u001b[39mget_address(), _strioerror(err)))\n\u001b[1;32m    428\u001b[0m \u001b[39mexcept\u001b[39;00m \u001b[39mNotImplementedError\u001b[39;00m \u001b[39mas\u001b[39;00m err:\n\u001b[1;32m    429\u001b[0m     \u001b[39mraise\u001b[39;00m errors\u001b[39m.\u001b[39mInterfaceError(\u001b[39mstr\u001b[39m(err))\n",
      "\u001b[0;31mInterfaceError\u001b[0m: 2055: Lost connection to MySQL server at 'dynamic-foraging-mysql.mysql.database.azure.com:3306', system error: 1 [SSL] internal error (_ssl.c:997)"
     ]
    }
   ],
   "source": [
    "import os, sys\n",
    "sys.path.insert(0, os.path.abspath('..'))\n",
    "# used for modifying the sql databases using the queries defined in queries.py\n",
    "import mysql.connector\n",
    "from mysql.connector import errorcode\n",
    "import pandas as pd\n",
    "import queries\n",
    "# Creating connection\n",
    "config = {\n",
    "    'host': 'dynamic-foraging-mysql.mysql.database.azure.com',\n",
    "    'user': 'peiheng',\n",
    "    'password': 'Luph65588590-',\n",
    "    'database': 'dynamic-foraging'\n",
    "}\n",
    "\n",
    "db = mysql.connector.connect(**config)\n",
    "cursor = db.cursor()\n",
    "\n",
    "print('connection established')"
   ]
  },
  {
   "cell_type": "code",
   "execution_count": 4,
   "metadata": {},
   "outputs": [],
   "source": [
    "db = mysql.connector.connect(**config)\n",
    "cursor = db.cursor()\n",
    "\n",
    "# create new tables\n",
    "queries.init(cursor)\n",
    "\n",
    "cursor.close()"
   ]
  },
  {
   "cell_type": "code",
   "execution_count": 3,
   "metadata": {},
   "outputs": [
    {
     "name": "stdout",
     "output_type": "stream",
     "text": [
      "[]\n"
     ]
    },
    {
     "data": {
      "text/plain": [
       "True"
      ]
     },
     "execution_count": 3,
     "metadata": {},
     "output_type": "execute_result"
    }
   ],
   "source": [
    "db = mysql.connector.connect(**config)\n",
    "cursor = db.cursor()\n",
    "\n",
    "cursor.execute('SHOW TABLES')\n",
    "print(cursor.fetchall())\n",
    "\n",
    "cursor.close()"
   ]
  },
  {
   "cell_type": "markdown",
   "metadata": {},
   "source": [
    "# DANGER ZONE"
   ]
  },
  {
   "cell_type": "code",
   "execution_count": 2,
   "metadata": {},
   "outputs": [
    {
     "data": {
      "text/plain": [
       "True"
      ]
     },
     "execution_count": 2,
     "metadata": {},
     "output_type": "execute_result"
    }
   ],
   "source": [
    "db = mysql.connector.connect(**config)\n",
    "cursor = db.cursor()\n",
    "\n",
    "queries.delete_all(cursor=cursor)\n",
    "\n",
    "cursor.close()"
   ]
  }
 ],
 "metadata": {
  "kernelspec": {
   "display_name": "Python 3.10.4 64-bit",
   "language": "python",
   "name": "python3"
  },
  "language_info": {
   "codemirror_mode": {
    "name": "ipython",
    "version": 3
   },
   "file_extension": ".py",
   "mimetype": "text/x-python",
   "name": "python",
   "nbconvert_exporter": "python",
   "pygments_lexer": "ipython3",
   "version": "3.10.4"
  },
  "orig_nbformat": 4,
  "vscode": {
   "interpreter": {
    "hash": "916dbcbb3f70747c44a77c7bcd40155683ae19c65e1c03b4aa3499c5328201f1"
   }
  }
 },
 "nbformat": 4,
 "nbformat_minor": 2
}
